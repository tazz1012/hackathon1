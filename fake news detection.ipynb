{
 "cells": [
  {
   "cell_type": "code",
   "execution_count": 15,
   "metadata": {},
   "outputs": [
    {
     "name": "stdout",
     "output_type": "stream",
     "text": [
      "                                                text                   source  \\\n",
      "0  Donald Trump Sends Out Embarrassing New Year’s...             Example News   \n",
      "1         NASA finds evidence of alien life on Mars.               Space News   \n",
      "2  Trump’s Biggest KKK Fan Is Back, And He Just L...          Political Watch   \n",
      "3  Breaking news: Earthquake hits California, cau...  Natural Disasters Daily   \n",
      "\n",
      "         date  label  \n",
      "0  2023-01-01      1  \n",
      "1  2023-04-18      0  \n",
      "2  2023-07-05      1  \n",
      "3  2023-09-15      0  \n"
     ]
    }
   ],
   "source": [
    "import pandas as pd\n",
    "\n",
    "# Sample data for demonstration\n",
    "data = {\n",
    "    'text': [\n",
    "        \"Donald Trump Sends Out Embarrassing New Year’s Eve Message.\",\n",
    "        \"NASA finds evidence of alien life on Mars.\",\n",
    "        \"Trump’s Biggest KKK Fan Is Back, And He Just LOVED Those Anti-Muslim Tweets This Morning.\",\n",
    "        \"Breaking news: Earthquake hits California, causing widespread damage.\"\n",
    "    ],\n",
    "    'source': [\n",
    "        \"Example News\",\n",
    "        \"Space News\",\n",
    "        \"Political Watch\",\n",
    "        \"Natural Disasters Daily\"\n",
    "    ],\n",
    "    'date': [\n",
    "        \"2023-01-01\",\n",
    "        \"2023-04-18\",\n",
    "        \"2023-07-05\",\n",
    "        \"2023-09-15\"\n",
    "    ],\n",
    "    'label': [1, 0, 1, 0]  # 1: Fake news, 0: Real news\n",
    "}\n",
    "\n",
    "# Create a DataFrame\n",
    "df = pd.DataFrame(data)\n",
    "\n",
    "# Save the DataFrame to a CSV file\n",
    "df.to_csv('fake_news_dataset.csv', index=False)\n",
    "\n",
    "# Display the dataset\n",
    "print(df)\n"
   ]
  },
  {
   "cell_type": "code",
   "execution_count": null,
   "metadata": {},
   "outputs": [],
   "source": []
  },
  {
   "cell_type": "code",
   "execution_count": null,
   "metadata": {},
   "outputs": [],
   "source": []
  },
  {
   "cell_type": "code",
   "execution_count": null,
   "metadata": {},
   "outputs": [],
   "source": []
  }
 ],
 "metadata": {
  "kernelspec": {
   "display_name": ".venv",
   "language": "python",
   "name": "python3"
  },
  "language_info": {
   "codemirror_mode": {
    "name": "ipython",
    "version": 3
   },
   "file_extension": ".py",
   "mimetype": "text/x-python",
   "name": "python",
   "nbconvert_exporter": "python",
   "pygments_lexer": "ipython3",
   "version": "3.12.4"
  }
 },
 "nbformat": 4,
 "nbformat_minor": 2
}
